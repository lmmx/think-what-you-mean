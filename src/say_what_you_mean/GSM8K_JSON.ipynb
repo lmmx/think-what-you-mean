{
 "cells": [
  {
   "cell_type": "markdown",
   "id": "49f3249d-4467-4b0f-8d0c-52c6a0139560",
   "metadata": {},
   "source": [
    "## GSM8K\n",
    "\n",
    "This notebook reproduces the results for the GSM8K evaluations"
   ]
  },
  {
   "cell_type": "code",
   "execution_count": 1,
   "id": "33194d54-582b-4b81-a195-8f1269a438a7",
   "metadata": {},
   "outputs": [
    {
     "name": "stdout",
     "output_type": "stream",
     "text": [
      "DatasetDict({\n",
      "    train: Dataset({\n",
      "        features: ['question', 'answer'],\n",
      "        num_rows: 7473\n",
      "    })\n",
      "    test: Dataset({\n",
      "        features: ['question', 'answer'],\n",
      "        num_rows: 1319\n",
      "    })\n",
      "})\n"
     ]
    }
   ],
   "source": [
    "import json\n",
    "import outlines\n",
    "from tqdm import tqdm\n",
    "import torch\n",
    "from transformers import AutoTokenizer\n",
    "from textwrap import dedent\n",
    "from datasets import load_dataset\n",
    "import re\n",
    "from outlines.samplers import greedy\n",
    "\n",
    "MODEL_NAME = \"casperhansen/deepseek-r1-distill-qwen-7b-awq\"\n",
    "# Load the dataset from HuggingFace\n",
    "dataset = load_dataset(\"gsm8k\", \"main\")\n",
    "# You can inspect the dataset structure\n",
    "print(dataset)"
   ]
  },
  {
   "cell_type": "code",
   "execution_count": 2,
   "id": "b196b250-d8a6-40ac-b2be-66014ca2548a",
   "metadata": {},
   "outputs": [
    {
     "data": {
      "text/plain": [
       "Dataset({\n",
       "    features: ['question', 'answer'],\n",
       "    num_rows: 7473\n",
       "})"
      ]
     },
     "execution_count": 2,
     "metadata": {},
     "output_type": "execute_result"
    }
   ],
   "source": [
    "dataset['train']"
   ]
  },
  {
   "cell_type": "code",
   "execution_count": 3,
   "id": "31a054b5-3aba-4875-9bd1-a8dd54252934",
   "metadata": {},
   "outputs": [
    {
     "name": "stdout",
     "output_type": "stream",
     "text": [
      "1319\n"
     ]
    }
   ],
   "source": [
    "all_evals = list(dataset['test'])\n",
    "print(len(all_evals))"
   ]
  },
  {
   "cell_type": "code",
   "execution_count": 4,
   "id": "95958a3a-7357-4181-b0b8-33771c286626",
   "metadata": {},
   "outputs": [
    {
     "name": "stdout",
     "output_type": "stream",
     "text": [
      "INFO 01-28 10:09:44 config.py:510] This model supports multiple tasks: {'score', 'reward', 'classify', 'generate', 'embed'}. Defaulting to 'generate'.\n",
      "INFO 01-28 10:09:45 awq_marlin.py:109] The model is convertible to awq_marlin during runtime. Using awq_marlin kernel.\n",
      "WARNING 01-28 10:09:45 arg_utils.py:1103] Chunked prefill is enabled by default for models with max_model_len > 32K. Currently, chunked prefill might not work with some features or models. If you encounter any issues, please disable chunked prefill by setting --enable-chunked-prefill=False.\n",
      "INFO 01-28 10:09:45 config.py:1458] Chunked prefill is enabled with max_num_batched_tokens=2048.\n",
      "INFO 01-28 10:09:45 llm_engine.py:234] Initializing an LLM engine (v0.6.6.post1) with config: model='casperhansen/deepseek-r1-distill-qwen-7b-awq', speculative_config=None, tokenizer='casperhansen/deepseek-r1-distill-qwen-7b-awq', skip_tokenizer_init=False, tokenizer_mode=auto, revision=None, override_neuron_config=None, tokenizer_revision=None, trust_remote_code=False, dtype=torch.bfloat16, max_seq_len=131072, download_dir=None, load_format=LoadFormat.AUTO, tensor_parallel_size=1, pipeline_parallel_size=1, disable_custom_all_reduce=False, quantization=awq_marlin, enforce_eager=False, kv_cache_dtype=auto, quantization_param_path=None, device_config=cuda, decoding_config=DecodingConfig(guided_decoding_backend='xgrammar'), observability_config=ObservabilityConfig(otlp_traces_endpoint=None, collect_model_forward_time=False, collect_model_execute_time=False), seed=0, served_model_name=casperhansen/deepseek-r1-distill-qwen-7b-awq, num_scheduler_steps=1, multi_step_stream_outputs=True, enable_prefix_caching=True, chunked_prefill_enabled=True, use_async_output_proc=True, disable_mm_preprocessor_cache=False, mm_processor_kwargs=None, pooler_config=None, compilation_config={\"splitting_ops\":[\"vllm.unified_attention\",\"vllm.unified_attention_with_output\"],\"candidate_compile_sizes\":[],\"compile_sizes\":[],\"capture_sizes\":[256,248,240,232,224,216,208,200,192,184,176,168,160,152,144,136,128,120,112,104,96,88,80,72,64,56,48,40,32,24,16,8,4,2,1],\"max_capture_size\":256}, use_cached_outputs=False, \n",
      "INFO 01-28 10:09:45 selector.py:120] Using Flash Attention backend.\n",
      "INFO 01-28 10:09:46 model_runner.py:1094] Starting to load model casperhansen/deepseek-r1-distill-qwen-7b-awq...\n",
      "INFO 01-28 10:09:46 weight_utils.py:251] Using model weights format ['*.safetensors']\n"
     ]
    },
    {
     "data": {
      "application/vnd.jupyter.widget-view+json": {
       "model_id": "edb0fbd3189c4417924c615b347e435a",
       "version_major": 2,
       "version_minor": 0
      },
      "text/plain": [
       "Loading safetensors checkpoint shards:   0% Completed | 0/2 [00:00<?, ?it/s]\n"
      ]
     },
     "metadata": {},
     "output_type": "display_data"
    },
    {
     "name": "stdout",
     "output_type": "stream",
     "text": [
      "INFO 01-28 10:09:47 model_runner.py:1099] Loading model weights took 5.2282 GB\n",
      "INFO 01-28 10:09:48 worker.py:241] Memory profiling takes 0.80 seconds\n",
      "INFO 01-28 10:09:48 worker.py:241] the current vLLM instance can use total_gpu_memory (23.68GiB) x gpu_memory_utilization (0.90) = 21.31GiB\n",
      "INFO 01-28 10:09:48 worker.py:241] model weights take 5.23GiB; non_torch_memory takes 0.24GiB; PyTorch activation peak memory takes 1.40GiB; the rest of the memory reserved for KV Cache is 14.44GiB.\n",
      "INFO 01-28 10:09:48 gpu_executor.py:76] # GPU blocks: 16902, # CPU blocks: 4681\n",
      "INFO 01-28 10:09:48 gpu_executor.py:80] Maximum concurrency for 131072 tokens per request: 2.06x\n",
      "INFO 01-28 10:09:50 model_runner.py:1415] Capturing cudagraphs for decoding. This may lead to unexpected consequences if the model is not static. To run the model in eager mode, set 'enforce_eager=True' or use '--enforce-eager' in the CLI. If out-of-memory error occurs during cudagraph capture, consider decreasing `gpu_memory_utilization` or switching to eager mode. You can also reduce the `max_num_seqs` as needed to decrease memory usage.\n"
     ]
    },
    {
     "name": "stderr",
     "output_type": "stream",
     "text": [
      "Capturing CUDA graph shapes: 100%|████████████████████████████████████████████████████████████████████████████████████████████████████████████████████████████████████████████████████████████████████████████████████████████| 35/35 [00:13<00:00,  2.67it/s]"
     ]
    },
    {
     "name": "stdout",
     "output_type": "stream",
     "text": [
      "INFO 01-28 10:10:04 model_runner.py:1535] Graph capturing finished in 13 secs, took 0.26 GiB\n",
      "INFO 01-28 10:10:04 llm_engine.py:431] init engine (profile, create kv cache, warmup model) took 16.02 seconds\n"
     ]
    },
    {
     "name": "stderr",
     "output_type": "stream",
     "text": [
      "\n"
     ]
    }
   ],
   "source": [
    "from pydantic import BaseModel, create_model\n",
    "from vllm import LLM, SamplingParams\n",
    "from outlines.models.vllm import adapt_tokenizer\n",
    "from outlines.processors import JSONLogitsProcessor\n",
    "\n",
    "llm = LLM(MODEL_NAME, enable_prefix_caching=True)\n",
    "tokenizer = llm.get_tokenizer()\n",
    "outlines_tokenizer = adapt_tokenizer(AutoTokenizer.from_pretrained(MODEL_NAME))"
   ]
  },
  {
   "cell_type": "code",
   "execution_count": 5,
   "id": "531655e1-b4a3-4d83-8d22-be34d7667b64",
   "metadata": {},
   "outputs": [],
   "source": [
    "example_question = [\n",
    "    \"There are 15 trees in the grove. Grove workers will plant trees in the grove today. After they are done, there will be 21 trees. How many trees did the grove workers plant today?\",\n",
    "    \"If there are 3 cars in the parking lot and 2 more cars arrive, how many cars are in the parking lot?\",\n",
    "    \"Leah had 32 chocolates and her sister had 42. If they ate 35, how many pieces do they have left in total?\"\n",
    "]"
   ]
  },
  {
   "cell_type": "code",
   "execution_count": 6,
   "id": "1a9ee758-437a-4fa2-b622-a0fe0423600e",
   "metadata": {},
   "outputs": [],
   "source": [
    "# Note: `tokenizer.apply_chat_template` strips out the <think>...</think> when formatting messages, so these will be lost from the demos!\n",
    "example_response = [\n",
    "    \"\"\"<think>There are 15 trees originally. Then there were 21 trees after some more were planted. So there must have been 21 - 15 = 6.</think>{\"answer\": 6}\"\"\",\n",
    "    \"\"\"<think>There are originally 3 cars. 2 more cars arrive. 3 + 2 = 5.</think>{\"answer\": 5}\"\"\",\n",
    "    \"\"\"<think>Originally, Leah had 32 chocolates. Her sister had 42. So in total they had 32 + 42 = 74. After eating 35, they had 74 - 35 = 39.</think>{\"answer\": 39}\"\"\"\n",
    "]"
   ]
  },
  {
   "cell_type": "code",
   "execution_count": 7,
   "id": "cd18c953-71eb-4f43-9a17-6c7d17c52e05",
   "metadata": {},
   "outputs": [
    {
     "name": "stdout",
     "output_type": "stream",
     "text": [
      "[{'role': 'system', 'content': 'You are an expert in solving grade school math tasks. You will be presented with a grade-school math word problem and be asked to solve it.\\nBefore answering you should reason about the problem (using the \"reasoning\" field in the JSON response described below).\\n\\nYou will always respond with a thinking step followed immediately by JSON in the format described below:\\n\\n```\\n<think>Reasoning about the answer goes here</think>{\"answer\": \"Final answer goes here\"}\\n```\\n\\nThe `<think>...</think>` section will contain your reasoning about the sequence of events.\\n\\nThe JSON \"answer\" will contain the integer representing the correct answer to the question.\\n'}, {'role': 'user', 'content': 'Question: There are 15 trees in the grove. Grove workers will plant trees in the grove today. After they are done, there will be 21 trees. How many trees did the grove workers plant today?'}, {'role': 'assistant', 'content': '<think>There are 15 trees originally. Then there were 21 trees after some more were planted. So there must have been 21 - 15 = 6.</think>{\"answer\": 6}'}, {'role': 'user', 'content': 'Question: If there are 3 cars in the parking lot and 2 more cars arrive, how many cars are in the parking lot?'}, {'role': 'assistant', 'content': '<think>There are originally 3 cars. 2 more cars arrive. 3 + 2 = 5.</think>{\"answer\": 5}'}, {'role': 'user', 'content': 'Question: Leah had 32 chocolates and her sister had 42. If they ate 35, how many pieces do they have left in total?'}, {'role': 'assistant', 'content': '<think>Originally, Leah had 32 chocolates. Her sister had 42. So in total they had 32 + 42 = 74. After eating 35, they had 74 - 35 = 39.</think>{\"answer\": 39}'}]\n"
     ]
    }
   ],
   "source": [
    "# Note: the system message can contain the `<think>` and `</think>` tags and the tokenizer does not remove them when applying chat template\n",
    "prompt_icl_messages = [\n",
    "    {\n",
    "        \"role\": \"system\",\n",
    "        \"content\": dedent(\"\"\"\\\n",
    "        You are an expert in solving grade school math tasks. You will be presented with a grade-school math word problem and be asked to solve it.\n",
    "        Before answering you should reason about the problem (using the \"reasoning\" field in the JSON response described below).\n",
    "          \n",
    "        You will always respond with a thinking step followed immediately by JSON in the format described below:\n",
    "\n",
    "        ```\n",
    "        <think>Reasoning about the answer goes here</think>{\"answer\": \"Final answer goes here\"}\n",
    "        ```\n",
    "\n",
    "        The `<think>...</think>` section will contain your reasoning about the sequence of events.\n",
    "        \n",
    "        The JSON \"answer\" will contain the integer representing the correct answer to the question.\n",
    "        \"\"\")\n",
    "    },\n",
    "]\n",
    "for i, _ in enumerate(example_question):\n",
    "    prompt_icl_messages.extend(\n",
    "        [\n",
    "            {\"role\": \"user\", \"content\": \"Question: {question}\".format(question=example_question[i])},\n",
    "            {\"role\": \"assistant\", \"content\": example_response[i]},\n",
    "        ]\n",
    "    )\n",
    "\n",
    "print(prompt_icl_messages)"
   ]
  },
  {
   "cell_type": "code",
   "execution_count": 8,
   "id": "c85cd043-5cca-4205-9cba-7903ecf4e4ae",
   "metadata": {},
   "outputs": [
    {
     "name": "stdout",
     "output_type": "stream",
     "text": [
      "<｜begin▁of▁sentence｜>You are an expert in solving grade school math tasks. You will be presented with a grade-school math word problem and be asked to solve it.\n",
      "Before answering you should reason about the problem (using the \"reasoning\" field in the JSON response described below).\n",
      "\n",
      "You will always respond with a thinking step followed immediately by JSON in the format described below:\n",
      "\n",
      "```\n",
      "<think>Reasoning about the answer goes here</think>{\"answer\": \"Final answer goes here\"}\n",
      "```\n",
      "\n",
      "The `<think>...</think>` section will contain your reasoning about the sequence of events.\n",
      "\n",
      "The JSON \"answer\" will contain the integer representing the correct answer to the question.\n",
      "<｜User｜>Question: There are 15 trees in the grove. Grove workers will plant trees in the grove today. After they are done, there will be 21 trees. How many trees did the grove workers plant today?<｜Assistant｜>{\"answer\": 6}<｜end▁of▁sentence｜><｜User｜>Question: If there are 3 cars in the parking lot and 2 more cars arrive, how many cars are in the parking lot?<｜Assistant｜>{\"answer\": 5}<｜end▁of▁sentence｜><｜User｜>Question: Leah had 32 chocolates and her sister had 42. If they ate 35, how many pieces do they have left in total?<｜Assistant｜>{\"answer\": 39}<｜end▁of▁sentence｜><｜User｜>Question: Kylar went to the store to buy glasses for his new apartment. One glass costs $5, but every second glass costs only 60% of the price. Kylar wants to buy 16 glasses. How much does he need to pay for them?<｜Assistant｜>\n"
     ]
    }
   ],
   "source": [
    "def create_prompt(question, tokenizer):\n",
    "    messages = list(prompt_icl_messages)\n",
    "    messages.extend(\n",
    "        [\n",
    "            {\"role\": \"user\", \"content\": \"Question: {question}\".format(question=question)},\n",
    "        ]\n",
    "    )\n",
    "    return tokenizer.apply_chat_template(messages, tokenize=False, add_generation_prompt=True)\n",
    "\n",
    "print(create_prompt(all_evals[5]['question'], tokenizer))"
   ]
  },
  {
   "cell_type": "code",
   "execution_count": 9,
   "id": "82efc86d-08ea-45d7-a3d4-efe84135f7aa",
   "metadata": {},
   "outputs": [],
   "source": [
    "from pydantic import BaseModel, Field, constr\n",
    "from outlines_core.fsm.json_schema import build_regex_from_schema\n",
    "import json\n",
    "\n",
    "class Response(BaseModel):\n",
    "    answer: int = Field(pattern=r'[1-9][0-9]{0,9}')\n",
    "\n",
    "\n",
    "schema_regex = build_regex_from_schema(json.dumps(Response.model_json_schema()))"
   ]
  },
  {
   "cell_type": "code",
   "execution_count": 10,
   "id": "7dd5ef47-38a5-48e2-8ccb-1f69f5226700",
   "metadata": {},
   "outputs": [
    {
     "data": {
      "text/plain": [
       "'Kylar went to the store to buy glasses for his new apartment. One glass costs $5, but every second glass costs only 60% of the price. Kylar wants to buy 16 glasses. How much does he need to pay for them?'"
      ]
     },
     "execution_count": 10,
     "metadata": {},
     "output_type": "execute_result"
    }
   ],
   "source": [
    "all_evals[5]['question']"
   ]
  },
  {
   "cell_type": "code",
   "execution_count": 11,
   "id": "1fce2d5a-1d3d-4ea5-aa9c-0204548fbf75",
   "metadata": {},
   "outputs": [],
   "source": [
    "# temperature = 0 means greedy sampling\n",
    "# https://docs.vllm.ai/en/stable/api/inference_params.html\n",
    "from vllm import LLM, SamplingParams\n",
    "\n",
    "def create_generator(llm: LLM, **sampling_kwargs):\n",
    "    base_params = sampling_kwargs\n",
    "    \n",
    "    def generator(prompt: str, max_tokens: int = 2048):\n",
    "        params = SamplingParams(\n",
    "            **{**base_params, 'max_tokens': max_tokens}\n",
    "        )\n",
    "        outputs = llm.generate([prompt], params, use_tqdm=False)\n",
    "        return outputs[0].outputs[0].text\n",
    "    \n",
    "    return generator\n",
    "\n",
    "open_generator = create_generator(llm, temperature=0)"
   ]
  },
  {
   "cell_type": "code",
   "execution_count": 12,
   "id": "06ea5b16-63d6-46e2-8e1e-0d85eda09c99",
   "metadata": {},
   "outputs": [
    {
     "name": "stdout",
     "output_type": "stream",
     "text": [
      "<function create_generator.<locals>.generator at 0x7fd5943363e0>\n"
     ]
    }
   ],
   "source": [
    "print(open_generator)"
   ]
  },
  {
   "cell_type": "code",
   "execution_count": 13,
   "id": "54a68fb7-e641-4ec3-a1ae-dcfbbe28411f",
   "metadata": {},
   "outputs": [
    {
     "data": {
      "text/plain": [
       "\"<think>\\nOkay, so Kylar wants to buy 16 glasses, and each glass normally costs $5. But every second glass is on sale for 60% of the original price. Hmm, I need to figure out how much he'll pay in total.\\n\\nFirst, I should understand the pricing structure. Every second glass is 60% off, which means it costs 60% of $5. Let me calculate that: 60% of $5 is 0.6 * 5 = $3. So, every even-numbered glass is $3, and the odd-numbered ones are $5.\\n\\nNow, Kylar is buying 16 glasses. Since every two glasses consist of one regular and one discounted, I can think of this as 8 sets of two glasses each. Each set has one $5 glass and one $3 glass.\\n\\nSo, for each set, the cost is $5 + $3 = $8. Since there are 8 sets, the total cost would be 8 * $8 = $64.\\n\\nWait, let me double-check. 16 glasses mean 8 regular and 8 discounted. 8 * $5 = $40, and 8 * $3 = $24. Adding those together: $40 + $24 = $64. Yep, that matches my earlier calculation.\\n\\nSo, Kylar needs to pay $64 in total.\\n</think>\\n\\nKylar needs to pay $64 for 16 glasses.\\n\\n**Step-by-Step Explanation:**\\n\\n1. **Determine the cost of every two glasses:**\\n   - First glass: $5\\n   - Second glass: 60% of $5 = $3\\n   \\n2. **Calculate the cost for one set of two glasses:**\\n   - $5 (first glass) + $3 (second glass) = $8\\n   \\n3. **Determine the number of sets in 16 glasses:**\\n   - 16 glasses ÷ 2 glasses/set = 8 sets\\n   \\n4. **Calculate the total cost for 8 sets:**\\n   - 8 sets × $8/set = $64\\n\\n**Answer:**  \\nKylar needs to pay $\\\\boxed{64}$ dollars.\""
      ]
     },
     "execution_count": 13,
     "metadata": {},
     "output_type": "execute_result"
    }
   ],
   "source": [
    "open_generator(create_prompt(all_evals[5]['question'], tokenizer),max_tokens=2560)"
   ]
  },
  {
   "cell_type": "code",
   "execution_count": 14,
   "id": "49a1e80d-ebf5-480f-b27f-0575573d1ac7",
   "metadata": {},
   "outputs": [
    {
     "data": {
      "text/plain": [
       "<re.Match object; span=(879, 892), match='{\"answer\": 6}'>"
      ]
     },
     "execution_count": 14,
     "metadata": {},
     "output_type": "execute_result"
    }
   ],
   "source": [
    "re.search(schema_regex, create_prompt(all_evals[5]['question'], tokenizer))"
   ]
  },
  {
   "cell_type": "markdown",
   "id": "6979209b-a66e-43b1-b3a9-a47e36c17316",
   "metadata": {},
   "source": [
    "## Unstructured Generation"
   ]
  },
  {
   "cell_type": "code",
   "execution_count": 15,
   "id": "a8a091ce-b273-44bc-9d7f-23de8cbdb8de",
   "metadata": {},
   "outputs": [],
   "source": [
    "LAST = len(all_evals)\n",
    "answer_regex = r'\"answer\":[ ]?([1-9][0-9]{0,9})'\n",
    "answers = []\n",
    "for ex_eval in all_evals[0:LAST]:\n",
    "    raw_int = ex_eval['answer'].split('#### ')[1]\n",
    "    raw_int = re.sub(\",\",\"\",raw_int)\n",
    "    answers.append(int(raw_int))"
   ]
  },
  {
   "cell_type": "code",
   "execution_count": 16,
   "id": "561a5625-62d4-4264-b3e0-17b63135fe6e",
   "metadata": {},
   "outputs": [
    {
     "name": "stderr",
     "output_type": "stream",
     "text": [
      "Generating 1319 evals: 100%|████████████████████████████████████████████████████████████████████████████████████████████████████████████████████████████████████████████████████████████████████████████████████████████| 1319/1319 [1:21:14<00:00,  3.70s/it]\n"
     ]
    }
   ],
   "source": [
    "free_resp = []\n",
    "for i in tqdm(range(LAST), desc=f\"Generating {LAST} evals\"):\n",
    "    free_resp.append(open_generator(create_prompt(all_evals[i]['question'], tokenizer), max_tokens=2560))\n"
   ]
  },
  {
   "cell_type": "code",
   "execution_count": 17,
   "id": "9d2ec11e-287b-4553-b276-8e5efcec42ec",
   "metadata": {},
   "outputs": [
    {
     "data": {
      "text/plain": [
       "\"<think>\\nFirst, I need to determine the total cost of the house by adding the purchase price and the repair costs. The house costs $80,000, and the repairs cost $50,000, so the total investment is $130,000.\\n\\nNext, the house's value increased by 150%. To find the increase in value, I calculate 150% of $130,000, which is $195,000.\\n\\nFinally, to find the profit, I subtract the total investment from the increased value. So, $195,000 minus $130,000 equals a profit of $65,000.\\n</think>\\n\\nTo determine the profit Josh made, follow these steps:\\n\\n1. **Calculate the Total Investment:**\\n   - **Purchase Price:** $80,000\\n   - **Repair Costs:** $50,000\\n   - **Total Investment:** $80,000 + $50,000 = **$130,000**\\n\\n2. **Determine the Increase in House Value:**\\n   - The house's value increased by **150%** of the total investment.\\n   - **Increase in Value:** 150% of $130,000 = 1.5 × $130,000 = **$195,000**\\n\\n3. **Calculate the Profit:**\\n   - **Profit:** Increase in Value - Total Investment = $195,000 - $130,000 = **$65,000**\\n\\n**Answer:** The profit Josh made is \\\\boxed{65000}.\""
      ]
     },
     "execution_count": 17,
     "metadata": {},
     "output_type": "execute_result"
    }
   ],
   "source": [
    "free_resp[2]"
   ]
  },
  {
   "cell_type": "code",
   "execution_count": 18,
   "id": "2ac8003f-fdd5-458b-89c9-0627f66a6535",
   "metadata": {},
   "outputs": [
    {
     "data": {
      "text/plain": [
       "'<think>\\nOkay, so I need to figure out how many meters James runs in a week. Let me break this down step by step. \\n\\nFirst, the problem says James runs 3 sprints 3 times a week. That means he\\'s doing 3 sprints each day for 3 days. So, the total number of sprints he runs in a week is 3 sprints multiplied by 3 times, which is 3 * 3 = 9 sprints in total.\\n\\nNext, each sprint is 60 meters long. So, for each sprint, he covers 60 meters. To find out the total meters he runs in a week, I need to multiply the number of sprints by the distance per sprint. That would be 9 sprints * 60 meters per sprint.\\n\\nLet me do the multiplication: 9 * 60. Hmm, 9 times 60 is 540. So, James runs a total of 540 meters in a week.\\n</think>\\n\\nJames runs 3 sprints 3 times a week, totaling 9 sprints. Each sprint is 60 meters, so the total meters he runs in a week are 9 * 60 = 540 meters.\\n\\n{\"answer\": 540}'"
      ]
     },
     "execution_count": 18,
     "metadata": {},
     "output_type": "execute_result"
    }
   ],
   "source": [
    "free_resp[3]"
   ]
  },
  {
   "cell_type": "code",
   "execution_count": 19,
   "id": "93fae3d2-99b6-4de1-bcd3-bf6b40428717",
   "metadata": {},
   "outputs": [
    {
     "data": {
      "text/plain": [
       "\"<think>\\nFirst, I need to determine how much feed each chicken receives per day. Wendi feeds each chicken three cups of mixed chicken feed daily.\\n\\nNext, I'll calculate the total daily feed consumption by multiplying the number of chickens by the amount of feed each chicken gets. So, 20 chickens multiplied by 3 cups equals 60 cups of feed per day.\\n\\nThen, I'll add up the feed given in the morning and afternoon meals. The morning meal is 15 cups, and the afternoon meal is 25 cups, totaling 40 cups.\\n\\nFinally, I'll subtract the total feed given in the morning and afternoon from the daily total to find out how much feed is needed for the final meal. So, 60 cups minus 40 cups equals 20 cups for the final meal.\\n</think>\\n\\nTo determine how many cups of feed Wendi needs to give her chickens in the final meal, follow these steps:\\n\\n1. **Calculate the total daily feed consumption:**\\n   - Each chicken is fed 3 cups per day.\\n   - There are 20 chickens.\\n   - Total daily feed = 20 chickens * 3 cups = 60 cups.\\n\\n2. **Sum the feed given in the morning and afternoon meals:**\\n   - Morning meal: 15 cups.\\n   - Afternoon meal: 25 cups.\\n   - Total feed given = 15 cups + 25 cups = 40 cups.\\n\\n3. **Determine the feed needed for the final meal:**\\n   - Total daily feed needed: 60 cups.\\n   - Feed already given: 40 cups.\\n   - Final meal feed = 60 cups - 40 cups = 20 cups.\\n\\n**Answer:**  \\nWendi needs to give her chickens \\\\boxed{20} cups of feed in the final meal.\""
      ]
     },
     "execution_count": 19,
     "metadata": {},
     "output_type": "execute_result"
    }
   ],
   "source": [
    "free_resp[4]"
   ]
  },
  {
   "cell_type": "code",
   "execution_count": 20,
   "id": "f978b4a4-8c4e-4e2b-97dc-0ce52ece58ee",
   "metadata": {},
   "outputs": [],
   "source": [
    "free_resp_answers = [int(result[1].upper()) if result else \"\" for result in [re.search(answer_regex,resp) for resp in free_resp]]"
   ]
  },
  {
   "cell_type": "code",
   "execution_count": 21,
   "id": "98a5cf9c-4496-4919-802c-25f6e0bcf727",
   "metadata": {},
   "outputs": [
    {
     "name": "stdout",
     "output_type": "stream",
     "text": [
      "[18, 3, '', 540, '', '', '', 120, 45, '', 366, '', 12, 18, '', '', 230, '', 7, 6, 15, '', '', 8, 26, 2, '', 16, '', 104, 109, 80, '', 70, 23, 9, 75, 2, '', '', '', 200, 26, '', 20, '', 39, 800, 8, 30, '', 5, 15, 40, 30, 14, 3, 83, 57, 187, '', '', 75000, '', 300, 36, 48, 595, 36, 60, '', 60, '', '', 88, 18, 5, '', 6, '', '', 17, 623, 600, 15, 44, 22, 9583, '', '', 225, 28, '', 36, 348, 40, 3, 12, 5, 58, 175, 6, 26, 140, 500, 20, 72, 3, 50, '', 45, 16, 24, 25, 6, '', '', '', '', 86769, '', 27, 48, 50, 10, '', 82, 120, '', '', 30, '', 60, 13, '', 40, 6, '', 105, 70, 20, 400, '', 15, '', 4000, 2125, 45, 30, '', 4, '', 4, 48, 112, 280, 1400, 80, 34, 15, 16, 32, '', 50, 15, 77, 5, 16, 18, 120, 150, 1210, 51, 18000, 95, '', 100, '', '', 130, '', 160, 24, 2, 25, 30, 6, 106, 50, 34, 360, 5, 91, 24, '', 12, 120, '', 320, 7500, '', '', 100, '', '', 98, '', '', 76, '', '', '', 5, '', 8, 44, '', 15, 45, '', 70, 90, 140, 20000, 180, 9, 33, 9, 1, '', 276000, 50, 75, 12, 21, '', '', 90, '', 280, 21, 3, 5, 250, 20, 7, '', 32, 300, '', 17, '', 73, 18, 84, '', '', '', '', 168, 5, '', 270, '', '', 9500, '', 71, 1375, '', 762, 20, 5, 315, '', 138, 9, '', 40, '', '', 2450, '', 68, 360, 21, '', 8, 3, '', 390, '', 75, 83, 3, 370, 3, 55, 500, '', 78, 8, 15, 1300, 4500, 4, 10, '', '', 8, 2050, '', 32, 120000, '', '', 156, '', '', 15, 8, 1, 9, 75, 14, '', 14, 31, 2, 14, 37, 8400, '', 100, 6, '', '', '', 60, '', 4, 270, 87, '', 2, 310, 9, 36, 10, '', '', 10, '', 20, '', 34, '', 12, 20, '', '', 20, 23, 8, 49, 18, 9, 19, 10, 1200, '', '', 5, '', 45, 48, 15, '', 15, 21, '', 67, 350, '', 32, 16, '', '', 88, 6, '', 15, 34, '', '', 38, '', 25, '', 12, '', 2400, '', '', 22, '', 240, 2000, 20, '', 3, '', 5, 25, '', 350, 56, '', '', 3000, 17000, 12, 284, '', '', 90, 11, 150, 13, '', 132, 1, 30, 6, 5, 5, 15, 7, '', 21, 98, 80, 49, 59, '', '', 2, 5, '', 112, 3, 11050, '', '', 240, '', '', 45, 35, 2, 84, 9, '', 18, 8, 30, 1, 1200, 120, 4, 3, '', 6, 10, 80, 20, 5, 20, '', '', 11, '', 26, '', '', 220, '', 4, 6, '', 4, '', '', 25, 21, 200, 38, '', 40, 10, 16, 273, 26, 18, '', 1600, 144, '', '', 4, '', '', '', '', '', '', '', 18, '', 280, 63, 39, 29, 74, 9, 12, '', '', 172, 11, '', 66, 9, 300, 300, 16, 8, '', 18, 30, 39, '', 7, 6, 80, 30, 130, 81, 100, 398, '', '', 450, 92, '', 2, 160, 70, '', 16, 45, 180, 82, 12, 240, 5, 10, 9, 175, 21, 23, 308, '', 600, '', '', '', 40, 48, 7, 500, 215, '', '', '', 40, '', 30, 52, 2, 319, 220, 1, 3, 42, '', 260, '', '', 48, 10, '', '', '', 12, 42, 6, 40, '', 7, 64960, 7250000, 30, 93000, 312, 33, 10, 5, '', '', 1509, '', '', 8, 85, '', '', '', '', '', '', '', 45, 5, 14, 4, '', 17, '', '', 43500, 378000, 10800, '', '', '', 79, 10, 54, 160000, '', 2100, '', 80, 2, 10, 10, '', 120, '', 15, 44, 7, 193, '', '', '', '', '', '', 4, 4, '', 9, 12, 9, 240, '', 120, '', 20, 298, 80, 50, 11, 14, '', '', '', '', 5760, 25, 32, 68, 9, 5, 145, 27, '', 8, 135, 200, 2800, '', '', 120, '', 8, '', 3000, 45, '', 14, 576, 10, 385000, '', '', 2, '', 4, 2450, '', 160, 18, '', 10, 112, 40, '', 8, 1, 87, 5, 17, 50, 3, '', 4, 98, 25, 28, 24, 8, 4, 1100, '', 350, 336, 6, '', 43, 300, 128, 107, 7, '', 75, '', 60000, 16, 27, 85, 100, 14, 490, 12, '', 600, 110, 4, 3, 50, 10, '', '', 800, '', 38, 255, 25, 17, 27, 4, '', '', 142, 25, 100, 4, '', 100, '', 250, '', 20, 7920000, 540, '', '', '', 1240, 6, '', 20, 1170, 70, 4, '', 100, 310, '', 79, 7, 17, 4, '', 15, '', 6250, '', 35, '', 18, '', '', 27, 11, 60, 4000, 18, '', 42, 40, 80, 27, '', 220, 15, 2, '', '', 10, '', 180, 12, 11, '', 10, '', 70, '', 123, '', 144, '', '', '', '', '', 3, '', 40, 110, 80, 23, '', 7, '', 500, 40, '', '', '', '', 60, '', 7000, 5, 575, '', 16, 5, 25, 50, 750, 20, '', 6, 15, '', 55, 1, 480, '', '', '', 1, 110, 16, 15, 1, 8, 16, '', '', 10, 16, '', '', 700, '', 6, 6, '', 23, 14, 12, 56, 90, 47, '', 60, 4, 12, '', '', 85000, 58, 60, 14, '', 25, '', '', 64800, '', '', 4, 650, 280, 842, 178, '', 34, 17, 450, 13, '', 42, 5, 300, '', 452, '', 100, 1, 45, 40, 7, 11, 225, 1000, 147, 200, 374, 48, 30, 227, 1800, '', 100, '', 79, '', 20, '', 4, '', 69, '', '', '', 15, 162, 63, '', '', 6, '', '', 15, 52, 11, '', 12, 3, 6600, 50, 25, 1, '', 8, '', '', 1490, '', 34, 230, '', 5, 6000, 94, '', 3, 78, 139, '', 60, '', '', '', 12, 77, '', 40, 43200, 12, '', 27, 60, 148, 450, 2, 66, 40, '', '', 4, 160, '', '', '', '', 1, 420, 189, 10, '', '', 655, '', 110, 55, '', 2304, '', 24, 250, '', 31, 58, 473, 320, '', 95, '', 245, 24, 300, 12, '', '', 21, 750, '', '', 145, 8, '', 72000, 195, 2, '', 20, 26, '', 12, 28, 32, 72, 1000, 1080, '', 25, 270, '', '', 30, 2, 5, 16, '', 90, 24, '', '', 360, '', 3, 60, '', '', '', '', 5, '', '', 5, 19, '', 35, 22, '', 64, 90, 50, 750, 9, 8, 25, 96, 45000, 50, 7, '', '', 68, 700, 1, 27, 20, 9, 300, 34, 291, 16, 22, 9, '', 21, 50, 16, 20, '', '', '', 3, 7300, 50, 1125, 140, '', '', 9, 1248, 2550, 120, 20, '', 2, '', '', 10, 240, 16, 3, '', 17, 50, '', 20, '', 6, '', 6, 19, 5, '', 6, '', '', '', 14, 1200, 320, '', 2400, 140, 2, 8, 42, 19, 60, 168, 7, '', '', 27, 29, 288, '', '', 31, 5, 36, 20, 75, 225, 100, 32, 10, 350, '', '', 3, 90, 5, 21, 36, '', '', 15, 81, '', 2, 84, 78, 520, 50, 2, 8, 10, 50, '', 96, 3360, 7, '', 56, 22, 30, 70, 120, 30, 12, 15, '', 60, '', 5, '', 12, 560, 260, 36, '', 80, 20, 54, 3528, 43, 296, 27, 38, '', 70, 48, '', '', 7, '', '', '', 25, '', 105, '', 450, 101, '', 27, 67, '', 36, 1, 335, '', '', '', '', 23, 72, '', 1000, 2325, 2, '', 30, 2180, 64, 594, '', '', 8, '', 230, 5, 14]\n"
     ]
    }
   ],
   "source": [
    "print(free_resp_answers)"
   ]
  },
  {
   "cell_type": "code",
   "execution_count": 22,
   "id": "2b132333-0217-4a45-a814-75208e6de990",
   "metadata": {},
   "outputs": [
    {
     "name": "stdout",
     "output_type": "stream",
     "text": [
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n"
     ]
    }
   ],
   "source": [
    "print(answers)"
   ]
  },
  {
   "cell_type": "code",
   "execution_count": 23,
   "id": "b8e653f0-6766-4d2f-9553-d48e2ff74d20",
   "metadata": {},
   "outputs": [
    {
     "data": {
      "text/plain": [
       "0.6080363912054587"
      ]
     },
     "execution_count": 23,
     "metadata": {},
     "output_type": "execute_result"
    }
   ],
   "source": [
    "import numpy as np\n",
    "np.mean([result[0] == result[1] for result in zip(free_resp_answers, answers)])"
   ]
  },
  {
   "cell_type": "markdown",
   "id": "afd59003-de09-4aa6-bfe5-1a8c0bf6474f",
   "metadata": {
    "execution": {
     "iopub.execute_input": "2024-11-01T19:17:29.562865Z",
     "iopub.status.busy": "2024-11-01T19:17:29.561917Z",
     "iopub.status.idle": "2024-11-01T19:17:29.570077Z",
     "shell.execute_reply": "2024-11-01T19:17:29.568594Z",
     "shell.execute_reply.started": "2024-11-01T19:17:29.562778Z"
    }
   },
   "source": [
    "## Structured Generation"
   ]
  },
  {
   "cell_type": "code",
   "execution_count": 24,
   "id": "05f4b1db-145d-4bd9-b9c6-340376b51fbd",
   "metadata": {},
   "outputs": [
    {
     "name": "stdout",
     "output_type": "stream",
     "text": [
      "\\{[ ]?\"answer\"[ ]?:[ ]?(-)?(0|[1-9][0-9]*)[ ]?\\}\n"
     ]
    }
   ],
   "source": [
    "print(schema_regex)"
   ]
  },
  {
   "cell_type": "code",
   "execution_count": 25,
   "id": "a57d9b4c-378b-444d-a8e1-955e267a9087",
   "metadata": {},
   "outputs": [],
   "source": [
    "bot, eot = \"<think>\", \"</think>\"\n",
    "\n",
    "\n",
    "class StructuredAnswer(BaseModel):\n",
    "    answer: int\n",
    "    \n",
    "\n",
    "class TriggerBasedLogitsProcessor:\n",
    "    \"\"\"Logits processor that triggers JSON generation after </think> token\"\"\"\n",
    "\n",
    "    def __init__(self, tokenizer, base_processor, guide: type[BaseModel] = StructuredAnswer):\n",
    "        self.tokenizer = tokenizer\n",
    "        self.base_processor = base_processor\n",
    "        self.guide = guide\n",
    "        self.bot_id, self.eot_id = tokenizer.convert_tokens_to_ids([bot, eot])\n",
    "        self.triggered = False\n",
    "        self.triggered_at = -1\n",
    "        self.in_cot = False\n",
    "        self.history = []\n",
    "        self.cot = \"\"\n",
    "\n",
    "    def __call__(\n",
    "        self, prompt: tuple[int], generated_tokens: tuple[int], logits: torch.Tensor\n",
    "    ) -> torch.Tensor:\n",
    "        if not self.in_cot and not self.cot:\n",
    "            # We may be in the CoT if the BOT was in the prompt (but not EOT)\n",
    "            self.in_cot = self.bot_id in prompt and self.eot_id not in prompt\n",
    "            if self.in_cot:\n",
    "                self.cot = self.tokenizer.decode(\n",
    "                    prompt[prompt.index(self.bot_id) + 1 :]\n",
    "                ).lstrip()\n",
    "        if len(generated_tokens) > 0:\n",
    "            last_id = generated_tokens[-1]\n",
    "            if not self.in_cot:\n",
    "                self.in_cot = last_id == self.bot_id\n",
    "            if self.in_cot:\n",
    "                is_eot = last_id == self.eot_id\n",
    "                if is_eot:\n",
    "                    self.triggered_at = len(generated_tokens)\n",
    "                    self.triggered = True\n",
    "                    self.in_cot = False\n",
    "                    self.cot += self.tokenizer.decode(self.history).strip()\n",
    "            self.history.append(last_id)\n",
    "\n",
    "        # Only apply base processor if triggered\n",
    "        if self.triggered:\n",
    "            return self.base_processor(generated_tokens, logits)\n",
    "        return logits"
   ]
  },
  {
   "cell_type": "code",
   "execution_count": 26,
   "id": "67e07900-54bc-4d4f-a2bc-3b8103884e1b",
   "metadata": {},
   "outputs": [],
   "source": [
    "# structured_generator = outlines.generate.regex(model, schema_regex, sampler=greedy())\n",
    "\n",
    "def structured_generator(prompt, guide = StructuredAnswer, temperature=0, max_new_tokens=2560):\n",
    "    json_schema = json.dumps(guide.model_json_schema())\n",
    "    model_name = llm.llm_engine.model_config.model\n",
    "    tokenizer = llm.get_tokenizer()\n",
    "    outlines_tokenizer = adapt_tokenizer(AutoTokenizer.from_pretrained(model_name))\n",
    "    guided_processor = JSONLogitsProcessor(\n",
    "        schema=json_schema, tokenizer=outlines_tokenizer, whitespace_pattern=r\" ?\"\n",
    "    )\n",
    "    conditional_guide_processor = TriggerBasedLogitsProcessor(\n",
    "        tokenizer=outlines_tokenizer, base_processor=guided_processor, guide=guide\n",
    "    )\n",
    "    sampling_params = SamplingParams(\n",
    "        temperature=temperature,\n",
    "        max_tokens=max_new_tokens,\n",
    "        logits_processors=[conditional_guide_processor],\n",
    "    )\n",
    "    # Generate output\n",
    "    logits_processor = sampling_params.logits_processors[0]  # or conditional_guide_processor\n",
    "    output = llm.generate(prompt, sampling_params, use_tqdm=False)\n",
    "    generated_text = output[0].outputs[0].text\n",
    "    cot = logits_processor.cot\n",
    "    # JSON structured response here\n",
    "    post_cot = tokenizer.decode(\n",
    "        logits_processor.history[logits_processor.triggered_at :],\n",
    "        skip_special_tokens=True,\n",
    "    )\n",
    "    structured = (\n",
    "        '{\"reasoning\": \"' + json.dumps(cot)[1:-1] + '\", ' + post_cot.removeprefix(\"{\")\n",
    "    )\n",
    "    return structured"
   ]
  },
  {
   "cell_type": "code",
   "execution_count": 27,
   "id": "c8f7601b-2490-42a0-851a-8be166ecc547",
   "metadata": {},
   "outputs": [
    {
     "name": "stderr",
     "output_type": "stream",
     "text": [
      "100%|███████████████████████████████████████████████████████████████████████████████████████████████████████████████████████████████████████████████████████████████████████████████████████████████████████████████████| 1319/1319 [1:22:40<00:00,  3.76s/it]\n"
     ]
    }
   ],
   "source": [
    "structured_resp = [structured_generator(create_prompt(all_evals[i]['question'], tokenizer)) for i in tqdm(range(LAST))]"
   ]
  },
  {
   "cell_type": "code",
   "execution_count": 28,
   "id": "d5e4048b-94c0-40de-9c7b-fa689cc4834f",
   "metadata": {},
   "outputs": [
    {
     "data": {
      "text/plain": [
       "'{\"reasoning\": \"<think>\\\\nOkay, so I need to figure out how many meters James runs in a week. Let me break this down step by step. \\\\n\\\\nFirst, the problem says James runs 3 sprints 3 times a week. That means he\\'s doing 3 sprints each day for 3 days. So, the total number of sprints he runs in a week is 3 sprints multiplied by 3 times, which is 3 * 3 = 9 sprints in total.\\\\n\\\\nNext, each sprint is 60 meters long. So, for each sprint, he covers 60 meters. To find out the total meters he runs in a week, I need to multiply the number of sprints by the distance per sprint. That would be 9 sprints * 60 meters per sprint.\\\\n\\\\nLet me do the multiplication: 9 * 60. Hmm, 9 times 60 is 540. So, James runs a total of 540 meters in a week.\", \"answer\": 540}'"
      ]
     },
     "execution_count": 28,
     "metadata": {},
     "output_type": "execute_result"
    }
   ],
   "source": [
    "structured_resp[3]"
   ]
  },
  {
   "cell_type": "code",
   "execution_count": 29,
   "id": "134d296e-19b1-41ea-b2b4-33bcea8d0a2d",
   "metadata": {},
   "outputs": [
    {
     "name": "stdout",
     "output_type": "stream",
     "text": [
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n"
     ]
    }
   ],
   "source": [
    "structured_resp_answers = [int(result[1].upper()) if result else \"\" for result in [re.search(answer_regex,resp) for resp in structured_resp]]\n",
    "print(answers)"
   ]
  },
  {
   "cell_type": "code",
   "execution_count": 30,
   "id": "6226335d-c3f0-42ef-86f7-de1ab8911bac",
   "metadata": {},
   "outputs": [
    {
     "data": {
      "text/plain": [
       "0.8400303260045489"
      ]
     },
     "execution_count": 30,
     "metadata": {},
     "output_type": "execute_result"
    }
   ],
   "source": [
    "import numpy as np\n",
    "np.mean([result[0] == result[1] for result in zip(structured_resp_answers, answers)])"
   ]
  },
  {
   "cell_type": "code",
   "execution_count": 31,
   "id": "d29f80e9-0438-47d6-b446-f54744524cad",
   "metadata": {},
   "outputs": [
    {
     "data": {
      "text/plain": [
       "Text(0.5, 1.0, 'GSM8K - Unstructured vs. JSON Structured\\ncasperhansen/deepseek-r1-distill-qwen-7b-awq')"
      ]
     },
     "execution_count": 31,
     "metadata": {},
     "output_type": "execute_result"
    },
    {
     "data": {
      "image/png": "[encoded data removed]",
      "text/plain": [
       "<Figure size 1000x800 with 1 Axes>"
      ]
     },
     "metadata": {},
     "output_type": "display_data"
    }
   ],
   "source": [
    "import matplotlib.pyplot as plt\n",
    "fig, ax = plt.subplots(1,figsize=(10,8),facecolor='white')\n",
    "ax.bar('unstructured',np.mean([result[0] == result[1] for result in zip(free_resp_answers, answers)]),label='unstructured')\n",
    "ax.bar('structured',np.mean([result[0] == result[1] for result in zip(structured_resp_answers, answers)]),label='structured')\n",
    "ax.legend(loc=\"lower right\")\n",
    "ax.set_title(f\"GSM8K - Unstructured vs. JSON Structured\\n{MODEL_NAME}\")"
   ]
  }
 ],
 "metadata": {
  "kernelspec": {
   "display_name": "Python 3 (ipykernel)",
   "language": "python",
   "name": "python3"
  },
  "language_info": {
   "codemirror_mode": {
    "name": "ipython",
    "version": 3
   },
   "file_extension": ".py",
   "mimetype": "text/x-python",
   "name": "python",
   "nbconvert_exporter": "python",
   "pygments_lexer": "ipython3",
   "version": "3.12.8"
  }
 },
 "nbformat": 4,
 "nbformat_minor": 5
}
