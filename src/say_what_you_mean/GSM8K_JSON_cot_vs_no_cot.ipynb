{
 "cells": [
  {
   "cell_type": "markdown",
   "id": "49f3249d-4467-4b0f-8d0c-52c6a0139560",
   "metadata": {},
   "source": [
    "## GSM8K\n",
    "\n",
    "This notebook reproduces the results for the GSM8K evaluations"
   ]
  },
  {
   "cell_type": "code",
   "execution_count": 2,
   "id": "33194d54-582b-4b81-a195-8f1269a438a7",
   "metadata": {},
   "outputs": [
    {
     "name": "stdout",
     "output_type": "stream",
     "text": [
      "DatasetDict({\n",
      "    train: Dataset({\n",
      "        features: ['question', 'answer'],\n",
      "        num_rows: 7473\n",
      "    })\n",
      "    test: Dataset({\n",
      "        features: ['question', 'answer'],\n",
      "        num_rows: 1319\n",
      "    })\n",
      "})\n"
     ]
    }
   ],
   "source": [
    "import json\n",
    "import outlines\n",
    "from tqdm import tqdm\n",
    "import torch\n",
    "from transformers import AutoTokenizer\n",
    "from textwrap import dedent\n",
    "from datasets import load_dataset\n",
    "import re\n",
    "from outlines.samplers import greedy\n",
    "\n",
    "MODEL_NAME = \"casperhansen/deepseek-r1-distill-qwen-7b-awq\"\n",
    "# Load the dataset from HuggingFace\n",
    "dataset = load_dataset(\"gsm8k\", \"main\")\n",
    "# You can inspect the dataset structure\n",
    "print(dataset)"
   ]
  },
  {
   "cell_type": "code",
   "execution_count": 3,
   "id": "b196b250-d8a6-40ac-b2be-66014ca2548a",
   "metadata": {},
   "outputs": [
    {
     "data": {
      "text/plain": [
       "Dataset({\n",
       "    features: ['question', 'answer'],\n",
       "    num_rows: 7473\n",
       "})"
      ]
     },
     "execution_count": 3,
     "metadata": {},
     "output_type": "execute_result"
    }
   ],
   "source": [
    "dataset['train']"
   ]
  },
  {
   "cell_type": "code",
   "execution_count": 4,
   "id": "31a054b5-3aba-4875-9bd1-a8dd54252934",
   "metadata": {},
   "outputs": [
    {
     "name": "stdout",
     "output_type": "stream",
     "text": [
      "1319\n"
     ]
    }
   ],
   "source": [
    "all_evals = list(dataset['test'])\n",
    "print(len(all_evals))"
   ]
  },
  {
   "cell_type": "code",
   "execution_count": 5,
   "id": "95958a3a-7357-4181-b0b8-33771c286626",
   "metadata": {},
   "outputs": [
    {
     "name": "stdout",
     "output_type": "stream",
     "text": [
      "INFO 01-28 16:31:47 config.py:510] This model supports multiple tasks: {'generate', 'classify', 'reward', 'embed', 'score'}. Defaulting to 'generate'.\n",
      "INFO 01-28 16:31:48 awq_marlin.py:109] The model is convertible to awq_marlin during runtime. Using awq_marlin kernel.\n",
      "WARNING 01-28 16:31:48 arg_utils.py:1103] Chunked prefill is enabled by default for models with max_model_len > 32K. Currently, chunked prefill might not work with some features or models. If you encounter any issues, please disable chunked prefill by setting --enable-chunked-prefill=False.\n",
      "INFO 01-28 16:31:48 config.py:1458] Chunked prefill is enabled with max_num_batched_tokens=2048.\n",
      "INFO 01-28 16:31:48 llm_engine.py:234] Initializing an LLM engine (v0.6.6.post1) with config: model='casperhansen/deepseek-r1-distill-qwen-7b-awq', speculative_config=None, tokenizer='casperhansen/deepseek-r1-distill-qwen-7b-awq', skip_tokenizer_init=False, tokenizer_mode=auto, revision=None, override_neuron_config=None, tokenizer_revision=None, trust_remote_code=False, dtype=torch.bfloat16, max_seq_len=131072, download_dir=None, load_format=LoadFormat.AUTO, tensor_parallel_size=1, pipeline_parallel_size=1, disable_custom_all_reduce=False, quantization=awq_marlin, enforce_eager=False, kv_cache_dtype=auto, quantization_param_path=None, device_config=cuda, decoding_config=DecodingConfig(guided_decoding_backend='xgrammar'), observability_config=ObservabilityConfig(otlp_traces_endpoint=None, collect_model_forward_time=False, collect_model_execute_time=False), seed=0, served_model_name=casperhansen/deepseek-r1-distill-qwen-7b-awq, num_scheduler_steps=1, multi_step_stream_outputs=True, enable_prefix_caching=True, chunked_prefill_enabled=True, use_async_output_proc=True, disable_mm_preprocessor_cache=False, mm_processor_kwargs=None, pooler_config=None, compilation_config={\"splitting_ops\":[\"vllm.unified_attention\",\"vllm.unified_attention_with_output\"],\"candidate_compile_sizes\":[],\"compile_sizes\":[],\"capture_sizes\":[256,248,240,232,224,216,208,200,192,184,176,168,160,152,144,136,128,120,112,104,96,88,80,72,64,56,48,40,32,24,16,8,4,2,1],\"max_capture_size\":256}, use_cached_outputs=False, \n",
      "INFO 01-28 16:31:49 selector.py:120] Using Flash Attention backend.\n",
      "INFO 01-28 16:31:49 model_runner.py:1094] Starting to load model casperhansen/deepseek-r1-distill-qwen-7b-awq...\n",
      "INFO 01-28 16:31:49 weight_utils.py:251] Using model weights format ['*.safetensors']\n"
     ]
    },
    {
     "data": {
      "application/vnd.jupyter.widget-view+json": {
       "model_id": "3bcea58056524b4492bec28bdc1368cf",
       "version_major": 2,
       "version_minor": 0
      },
      "text/plain": [
       "Loading safetensors checkpoint shards:   0% Completed | 0/2 [00:00<?, ?it/s]\n"
      ]
     },
     "metadata": {},
     "output_type": "display_data"
    },
    {
     "name": "stdout",
     "output_type": "stream",
     "text": [
      "INFO 01-28 16:31:51 model_runner.py:1099] Loading model weights took 5.2282 GB\n",
      "INFO 01-28 16:31:52 worker.py:241] Memory profiling takes 0.75 seconds\n",
      "INFO 01-28 16:31:52 worker.py:241] the current vLLM instance can use total_gpu_memory (23.68GiB) x gpu_memory_utilization (0.90) = 21.31GiB\n",
      "INFO 01-28 16:31:52 worker.py:241] model weights take 5.23GiB; non_torch_memory takes 0.24GiB; PyTorch activation peak memory takes 1.40GiB; the rest of the memory reserved for KV Cache is 14.44GiB.\n",
      "INFO 01-28 16:31:52 gpu_executor.py:76] # GPU blocks: 16900, # CPU blocks: 4681\n",
      "INFO 01-28 16:31:52 gpu_executor.py:80] Maximum concurrency for 131072 tokens per request: 2.06x\n",
      "INFO 01-28 16:31:54 model_runner.py:1415] Capturing cudagraphs for decoding. This may lead to unexpected consequences if the model is not static. To run the model in eager mode, set 'enforce_eager=True' or use '--enforce-eager' in the CLI. If out-of-memory error occurs during cudagraph capture, consider decreasing `gpu_memory_utilization` or switching to eager mode. You can also reduce the `max_num_seqs` as needed to decrease memory usage.\n"
     ]
    },
    {
     "name": "stderr",
     "output_type": "stream",
     "text": [
      "Capturing CUDA graph shapes: 100%|████████████████████████████████████████████████████████████████████████████████████████████████████████████████████████████████████████████████████████████████████████████████████████████| 35/35 [00:13<00:00,  2.65it/s]"
     ]
    },
    {
     "name": "stdout",
     "output_type": "stream",
     "text": [
      "INFO 01-28 16:32:07 model_runner.py:1535] Graph capturing finished in 13 secs, took 0.26 GiB\n",
      "INFO 01-28 16:32:07 llm_engine.py:431] init engine (profile, create kv cache, warmup model) took 16.02 seconds\n"
     ]
    },
    {
     "name": "stderr",
     "output_type": "stream",
     "text": [
      "\n"
     ]
    }
   ],
   "source": [
    "from pydantic import BaseModel, create_model\n",
    "from vllm import LLM, SamplingParams\n",
    "from outlines.models.vllm import adapt_tokenizer\n",
    "from outlines.processors import JSONLogitsProcessor\n",
    "\n",
    "llm = LLM(MODEL_NAME, enable_prefix_caching=True)\n",
    "tokenizer = llm.get_tokenizer()\n",
    "outlines_tokenizer = adapt_tokenizer(AutoTokenizer.from_pretrained(MODEL_NAME))"
   ]
  },
  {
   "cell_type": "code",
   "execution_count": 6,
   "id": "531655e1-b4a3-4d83-8d22-be34d7667b64",
   "metadata": {},
   "outputs": [],
   "source": [
    "example_question = [\n",
    "    \"There are 15 trees in the grove. Grove workers will plant trees in the grove today. After they are done, there will be 21 trees. How many trees did the grove workers plant today?\",\n",
    "    \"If there are 3 cars in the parking lot and 2 more cars arrive, how many cars are in the parking lot?\",\n",
    "    \"Leah had 32 chocolates and her sister had 42. If they ate 35, how many pieces do they have left in total?\"\n",
    "]"
   ]
  },
  {
   "cell_type": "code",
   "execution_count": 7,
   "id": "1a9ee758-437a-4fa2-b622-a0fe0423600e",
   "metadata": {},
   "outputs": [],
   "source": [
    "# Note: `tokenizer.apply_chat_template` strips out the <think>...</think> when formatting messages, so these will be lost from the demos!\n",
    "example_response = [\n",
    "    \"\"\"<think>There are 15 trees originally. Then there were 21 trees after some more were planted. So there must have been 21 - 15 = 6.</think>{\"answer\": 6}\"\"\",\n",
    "    \"\"\"<think>There are originally 3 cars. 2 more cars arrive. 3 + 2 = 5.</think>{\"answer\": 5}\"\"\",\n",
    "    \"\"\"<think>Originally, Leah had 32 chocolates. Her sister had 42. So in total they had 32 + 42 = 74. After eating 35, they had 74 - 35 = 39.</think>{\"answer\": 39}\"\"\"\n",
    "]"
   ]
  },
  {
   "cell_type": "code",
   "execution_count": 8,
   "id": "cd18c953-71eb-4f43-9a17-6c7d17c52e05",
   "metadata": {},
   "outputs": [
    {
     "name": "stdout",
     "output_type": "stream",
     "text": [
      "[{'role': 'system', 'content': 'You are an expert in solving grade school math tasks. You will be presented with a grade-school math word problem and be asked to solve it.\\nBefore answering you should reason about the problem (using the \"reasoning\" field in the JSON response described below).\\n\\nYou will always respond with a thinking step followed immediately by JSON in the format described below:\\n\\n```\\n<think>Reasoning about the answer goes here</think>{\"answer\": \"Final answer goes here\"}\\n```\\n\\nThe `<think>...</think>` section will contain your reasoning about the sequence of events.\\n\\nThe JSON \"answer\" will contain the integer representing the correct answer to the question.\\n'}, {'role': 'user', 'content': 'Question: There are 15 trees in the grove. Grove workers will plant trees in the grove today. After they are done, there will be 21 trees. How many trees did the grove workers plant today?'}, {'role': 'assistant', 'content': '<think>There are 15 trees originally. Then there were 21 trees after some more were planted. So there must have been 21 - 15 = 6.</think>{\"answer\": 6}'}, {'role': 'user', 'content': 'Question: If there are 3 cars in the parking lot and 2 more cars arrive, how many cars are in the parking lot?'}, {'role': 'assistant', 'content': '<think>There are originally 3 cars. 2 more cars arrive. 3 + 2 = 5.</think>{\"answer\": 5}'}, {'role': 'user', 'content': 'Question: Leah had 32 chocolates and her sister had 42. If they ate 35, how many pieces do they have left in total?'}, {'role': 'assistant', 'content': '<think>Originally, Leah had 32 chocolates. Her sister had 42. So in total they had 32 + 42 = 74. After eating 35, they had 74 - 35 = 39.</think>{\"answer\": 39}'}]\n"
     ]
    }
   ],
   "source": [
    "# Note: the system message can contain the `<think>` and `</think>` tags and the tokenizer does not remove them when applying chat template\n",
    "prompt_icl_messages = [\n",
    "    {\n",
    "        \"role\": \"system\",\n",
    "        \"content\": dedent(\"\"\"\\\n",
    "        You are an expert in solving grade school math tasks. You will be presented with a grade-school math word problem and be asked to solve it.\n",
    "        Before answering you should reason about the problem (using the \"reasoning\" field in the JSON response described below).\n",
    "          \n",
    "        You will always respond with a thinking step followed immediately by JSON in the format described below:\n",
    "\n",
    "        ```\n",
    "        <think>Reasoning about the answer goes here</think>{\"answer\": \"Final answer goes here\"}\n",
    "        ```\n",
    "\n",
    "        The `<think>...</think>` section will contain your reasoning about the sequence of events.\n",
    "        \n",
    "        The JSON \"answer\" will contain the integer representing the correct answer to the question.\n",
    "        \"\"\")\n",
    "    },\n",
    "]\n",
    "for i, _ in enumerate(example_question):\n",
    "    prompt_icl_messages.extend(\n",
    "        [\n",
    "            {\"role\": \"user\", \"content\": \"Question: {question}\".format(question=example_question[i])},\n",
    "            {\"role\": \"assistant\", \"content\": example_response[i]},\n",
    "        ]\n",
    "    )\n",
    "\n",
    "print(prompt_icl_messages)"
   ]
  },
  {
   "cell_type": "code",
   "execution_count": 9,
   "id": "c85cd043-5cca-4205-9cba-7903ecf4e4ae",
   "metadata": {},
   "outputs": [
    {
     "name": "stdout",
     "output_type": "stream",
     "text": [
      "<｜begin▁of▁sentence｜>You are an expert in solving grade school math tasks. You will be presented with a grade-school math word problem and be asked to solve it.\n",
      "Before answering you should reason about the problem (using the \"reasoning\" field in the JSON response described below).\n",
      "\n",
      "You will always respond with a thinking step followed immediately by JSON in the format described below:\n",
      "\n",
      "```\n",
      "<think>Reasoning about the answer goes here</think>{\"answer\": \"Final answer goes here\"}\n",
      "```\n",
      "\n",
      "The `<think>...</think>` section will contain your reasoning about the sequence of events.\n",
      "\n",
      "The JSON \"answer\" will contain the integer representing the correct answer to the question.\n",
      "<｜User｜>Question: There are 15 trees in the grove. Grove workers will plant trees in the grove today. After they are done, there will be 21 trees. How many trees did the grove workers plant today?<｜Assistant｜>{\"answer\": 6}<｜end▁of▁sentence｜><｜User｜>Question: If there are 3 cars in the parking lot and 2 more cars arrive, how many cars are in the parking lot?<｜Assistant｜>{\"answer\": 5}<｜end▁of▁sentence｜><｜User｜>Question: Leah had 32 chocolates and her sister had 42. If they ate 35, how many pieces do they have left in total?<｜Assistant｜>{\"answer\": 39}<｜end▁of▁sentence｜><｜User｜>Question: Kylar went to the store to buy glasses for his new apartment. One glass costs $5, but every second glass costs only 60% of the price. Kylar wants to buy 16 glasses. How much does he need to pay for them?<｜Assistant｜>\n"
     ]
    }
   ],
   "source": [
    "def create_prompt(question, tokenizer):\n",
    "    messages = list(prompt_icl_messages)\n",
    "    messages.extend(\n",
    "        [\n",
    "            {\"role\": \"user\", \"content\": \"Question: {question}\".format(question=question)},\n",
    "        ]\n",
    "    )\n",
    "    return tokenizer.apply_chat_template(messages, tokenize=False, add_generation_prompt=True)\n",
    "\n",
    "print(create_prompt(all_evals[5]['question'], tokenizer))"
   ]
  },
  {
   "cell_type": "code",
   "execution_count": 10,
   "id": "82efc86d-08ea-45d7-a3d4-efe84135f7aa",
   "metadata": {},
   "outputs": [],
   "source": [
    "from pydantic import BaseModel, Field, constr\n",
    "from outlines_core.fsm.json_schema import build_regex_from_schema\n",
    "import json\n",
    "\n",
    "class Response(BaseModel):\n",
    "    answer: int = Field(pattern=r'[1-9][0-9]{0,9}')\n",
    "\n",
    "\n",
    "schema_regex = build_regex_from_schema(json.dumps(Response.model_json_schema()))"
   ]
  },
  {
   "cell_type": "code",
   "execution_count": 11,
   "id": "05f4b1db-145d-4bd9-b9c6-340376b51fbd",
   "metadata": {},
   "outputs": [
    {
     "name": "stdout",
     "output_type": "stream",
     "text": [
      "\\{[ ]?\"answer\"[ ]?:[ ]?(-)?(0|[1-9][0-9]*)[ ]?\\}\n"
     ]
    }
   ],
   "source": [
    "print(schema_regex)"
   ]
  },
  {
   "cell_type": "code",
   "execution_count": 12,
   "id": "7dd5ef47-38a5-48e2-8ccb-1f69f5226700",
   "metadata": {},
   "outputs": [
    {
     "data": {
      "text/plain": [
       "'Kylar went to the store to buy glasses for his new apartment. One glass costs $5, but every second glass costs only 60% of the price. Kylar wants to buy 16 glasses. How much does he need to pay for them?'"
      ]
     },
     "execution_count": 12,
     "metadata": {},
     "output_type": "execute_result"
    }
   ],
   "source": [
    "all_evals[5]['question']"
   ]
  },
  {
   "cell_type": "code",
   "execution_count": 13,
   "id": "1fce2d5a-1d3d-4ea5-aa9c-0204548fbf75",
   "metadata": {},
   "outputs": [],
   "source": [
    "# temperature = 0 means greedy sampling\n",
    "# https://docs.vllm.ai/en/stable/api/inference_params.html\n",
    "from vllm import LLM, SamplingParams"
   ]
  },
  {
   "cell_type": "code",
   "execution_count": 14,
   "id": "49a1e80d-ebf5-480f-b27f-0575573d1ac7",
   "metadata": {},
   "outputs": [
    {
     "data": {
      "text/plain": [
       "<re.Match object; span=(879, 892), match='{\"answer\": 6}'>"
      ]
     },
     "execution_count": 14,
     "metadata": {},
     "output_type": "execute_result"
    }
   ],
   "source": [
    "re.search(schema_regex, create_prompt(all_evals[5]['question'], tokenizer))"
   ]
  },
  {
   "cell_type": "markdown",
   "id": "6979209b-a66e-43b1-b3a9-a47e36c17316",
   "metadata": {},
   "source": [
    "## Structured Generation: with Chain of Thought"
   ]
  },
  {
   "cell_type": "code",
   "execution_count": 15,
   "id": "a8a091ce-b273-44bc-9d7f-23de8cbdb8de",
   "metadata": {},
   "outputs": [],
   "source": [
    "LAST = len(all_evals)\n",
    "answer_regex = r'\"answer\":[ ]?([1-9][0-9]{0,9})'\n",
    "answers = []\n",
    "for ex_eval in all_evals[0:LAST]:\n",
    "    raw_int = ex_eval['answer'].split('#### ')[1]\n",
    "    raw_int = re.sub(\",\",\"\",raw_int)\n",
    "    answers.append(int(raw_int))"
   ]
  },
  {
   "cell_type": "code",
   "execution_count": 16,
   "id": "992cca73-45b2-41d2-a84f-5609bd15cdd8",
   "metadata": {},
   "outputs": [],
   "source": [
    "from functools import reduce\n",
    "\n",
    "special_tokens = tokenizer.special_tokens_map.values()\n",
    "assistant_str = tokenizer.apply_chat_template([{\"role\": \"assistant\", \"content\": \"\"}], tokenize=False)\n",
    "\n",
    "boa = reduce(\n",
    "    lambda s, token: s.replace(str(token), \"\"), \n",
    "    special_tokens, \n",
    "    assistant_str\n",
    ")\n",
    "# boa = \"<｜Assistant｜>\"\n",
    "# print(tokenizer.convert_tokens_to_ids(boa))\n",
    "# 151645"
   ]
  },
  {
   "cell_type": "code",
   "execution_count": 17,
   "id": "a57d9b4c-378b-444d-a8e1-955e267a9087",
   "metadata": {},
   "outputs": [],
   "source": [
    "bot, eot = \"<think>\", \"</think>\"\n",
    "\n",
    "class StructuredAnswer(BaseModel):\n",
    "    answer: int\n",
    "    \n",
    "\n",
    "class TriggerBasedLogitsProcessor:\n",
    "    \"\"\"Logits processor that triggers JSON generation after </think> token\"\"\"\n",
    "\n",
    "    def __init__(self, tokenizer, base_processor, guide: type[BaseModel] = StructuredAnswer):\n",
    "        self.tokenizer = tokenizer\n",
    "        self.base_processor = base_processor\n",
    "        self.guide = guide\n",
    "        self.bot_id, self.eot_id, self.boa_id = tokenizer.convert_tokens_to_ids([bot, eot, boa])\n",
    "        self.triggered = False\n",
    "        self.triggered_at = -1\n",
    "        self.in_cot = False\n",
    "        self.seen_cot = False\n",
    "        self.history = []\n",
    "        self.cot = \"\"\n",
    "\n",
    "    def __call__(\n",
    "        self, prompt: tuple[int], generated_tokens: tuple[int], logits: torch.Tensor\n",
    "    ) -> torch.Tensor:\n",
    "        if not self.in_cot and not self.seen_cot:\n",
    "            # We may be in the CoT if the BOT was in the prompt (but not EOT)\n",
    "            # This assumes that the prompt is always created with the generation prompt, and checks for assistant prefill\n",
    "            is_generation_prompt = prompt.count(self.boa_id)\n",
    "            # Substring from the right using negative index (i.e. backwards from the end) of the assistant token ID\n",
    "            assistant_prefill = prompt[-prompt[::-1].index(self.boa_id)-1 if is_generation_prompt else len(prompt):]\n",
    "            # NB: we could check here if the User role token occurs after the last Assistant role token to avoid the edge case\n",
    "            #     of the last message being a User message, in which case we would be checking if the User had sent CoT tokens\n",
    "            if self.bot_id in assistant_prefill:\n",
    "                self.seen_cot = True\n",
    "                # print(\"CoT detected in prompt\")\n",
    "                self.in_cot = self.eot_id not in assistant_prefill\n",
    "                if self.in_cot:\n",
    "                    # print(\"CoT left open in prompt\")\n",
    "                    self.cot = self.tokenizer.decode(\n",
    "                        assistant_prefill[assistant_prefill.index(self.bot_id) + 1 :]\n",
    "                    ).lstrip()\n",
    "                else:\n",
    "                    # The CoT was entirely prefilled in the prompt (assistant prefill), allowed!\n",
    "                    # print(\"CoT completed in prompt\")\n",
    "                    self.cot = self.tokenizer.decode(\n",
    "                        assistant_prefill[assistant_prefill.index(self.bot_id) + 1 : assistant_prefill.index(self.eot_id)]\n",
    "                    )\n",
    "                    self.triggered = True\n",
    "                    self.triggered_at = 0\n",
    "        else:\n",
    "            pass # Either in CoT... or already saw it\n",
    "        if len(generated_tokens) > 0:\n",
    "            last_id = generated_tokens[-1]\n",
    "            if not self.in_cot:\n",
    "                self.in_cot = last_id == self.bot_id\n",
    "                self.seen_cot = self.in_cot\n",
    "            if self.in_cot:\n",
    "                is_eot = last_id == self.eot_id\n",
    "                if is_eot:\n",
    "                    self.triggered_at = len(generated_tokens)\n",
    "                    self.triggered = True\n",
    "                    self.in_cot = False\n",
    "                    self.cot += self.tokenizer.decode(self.history).strip()\n",
    "                    self.seen_cot = True\n",
    "            self.history.append(last_id)\n",
    "\n",
    "        # Only apply base processor if triggered\n",
    "        if self.triggered:\n",
    "            return self.base_processor(generated_tokens, logits)\n",
    "        return logits"
   ]
  },
  {
   "cell_type": "code",
   "execution_count": 18,
   "id": "67e07900-54bc-4d4f-a2bc-3b8103884e1b",
   "metadata": {},
   "outputs": [],
   "source": [
    "# structured_generator = outlines.generate.regex(model, schema_regex, sampler=greedy())\n",
    "\n",
    "def structured_generator(prompt, guide = StructuredAnswer, temperature=0, max_new_tokens=2560):\n",
    "    json_schema = json.dumps(guide.model_json_schema())\n",
    "    model_name = llm.llm_engine.model_config.model\n",
    "    tokenizer = llm.get_tokenizer()\n",
    "    outlines_tokenizer = adapt_tokenizer(AutoTokenizer.from_pretrained(model_name))\n",
    "    guided_processor = JSONLogitsProcessor(\n",
    "        schema=json_schema, tokenizer=outlines_tokenizer, whitespace_pattern=r\" ?\"\n",
    "    )\n",
    "    conditional_guide_processor = TriggerBasedLogitsProcessor(\n",
    "        tokenizer=outlines_tokenizer, base_processor=guided_processor, guide=guide\n",
    "    )\n",
    "    sampling_params = SamplingParams(\n",
    "        temperature=temperature,\n",
    "        max_tokens=max_new_tokens,\n",
    "        logits_processors=[conditional_guide_processor],\n",
    "    )\n",
    "    # Generate output\n",
    "    logits_processor = sampling_params.logits_processors[0]  # or conditional_guide_processor\n",
    "    output = llm.generate(prompt, sampling_params, use_tqdm=False)\n",
    "    generated_text = output[0].outputs[0].text\n",
    "    cot = logits_processor.cot\n",
    "    # JSON structured response here\n",
    "    post_cot = tokenizer.decode(\n",
    "        logits_processor.history[logits_processor.triggered_at :],\n",
    "        skip_special_tokens=True,\n",
    "    )\n",
    "    structured = (\n",
    "        '{\"reasoning\": \"' + json.dumps(cot)[1:-1] + '\", ' + post_cot.removeprefix(\"{\")\n",
    "    )\n",
    "    return structured"
   ]
  },
  {
   "cell_type": "code",
   "execution_count": 19,
   "id": "210ea8d9-d26d-49f9-b1f2-66568f6d2269",
   "metadata": {},
   "outputs": [
    {
     "name": "stderr",
     "output_type": "stream",
     "text": [
      "100%|███████████████████████████████████████████████████████████████████████████████████████████████████████████████████████████████████████████████████████████████████████████████████████████████████████████████████| 1319/1319 [1:23:36<00:00,  3.80s/it]\n"
     ]
    }
   ],
   "source": [
    "structured_resp = [structured_generator(create_prompt(all_evals[i]['question'], tokenizer)) for i in tqdm(range(LAST))]"
   ]
  },
  {
   "cell_type": "code",
   "execution_count": 20,
   "id": "d5e4048b-94c0-40de-9c7b-fa689cc4834f",
   "metadata": {},
   "outputs": [
    {
     "data": {
      "text/plain": [
       "'{\"reasoning\": \"<think>\\\\nOkay, so I need to figure out how many meters James runs in a week. Let me break this down step by step. \\\\n\\\\nFirst, the problem says James runs 3 sprints 3 times a week. That means he\\'s doing 3 sprints each day for 3 days. So, the total number of sprints he runs in a week is 3 sprints multiplied by 3 times, which is 3 * 3 = 9 sprints in total.\\\\n\\\\nNext, each sprint is 60 meters long. So, for each sprint, he covers 60 meters. To find out the total meters he runs in a week, I need to multiply the number of sprints by the distance per sprint. That would be 9 sprints * 60 meters per sprint.\\\\n\\\\nLet me do the multiplication: 9 * 60. Hmm, 9 times 60 is 540. So, James runs a total of 540 meters in a week.\", \"answer\": 540}'"
      ]
     },
     "execution_count": 20,
     "metadata": {},
     "output_type": "execute_result"
    }
   ],
   "source": [
    "structured_resp[3]"
   ]
  },
  {
   "cell_type": "code",
   "execution_count": 21,
   "id": "134d296e-19b1-41ea-b2b4-33bcea8d0a2d",
   "metadata": {},
   "outputs": [
    {
     "name": "stdout",
     "output_type": "stream",
     "text": [
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n"
     ]
    }
   ],
   "source": [
    "structured_resp_answers = [int(result[1].upper()) if result else \"\" for result in [re.search(answer_regex,resp) for resp in structured_resp]]\n",
    "print(answers)"
   ]
  },
  {
   "cell_type": "code",
   "execution_count": 22,
   "id": "6226335d-c3f0-42ef-86f7-de1ab8911bac",
   "metadata": {},
   "outputs": [
    {
     "data": {
      "text/plain": [
       "0.8400303260045489"
      ]
     },
     "execution_count": 22,
     "metadata": {},
     "output_type": "execute_result"
    }
   ],
   "source": [
    "import numpy as np\n",
    "np.mean([result[0] == result[1] for result in zip(structured_resp_answers, answers)])"
   ]
  },
  {
   "cell_type": "code",
   "execution_count": 23,
   "id": "426231b8-fdb3-4048-a360-c0148844778f",
   "metadata": {},
   "outputs": [],
   "source": [
    "empty_cot = \"<think>\\n\\n<think>\\n\""
   ]
  },
  {
   "cell_type": "code",
   "execution_count": 24,
   "id": "2186b07b-5893-4b75-9a8c-dac151374b12",
   "metadata": {},
   "outputs": [
    {
     "data": {
      "text/plain": [
       "'<｜begin▁of▁sentence｜>You are an expert in solving grade school math tasks. You will be presented with a grade-school math word problem and be asked to solve it.\\nBefore answering you should reason about the problem (using the \"reasoning\" field in the JSON response described below).\\n\\nYou will always respond with a thinking step followed immediately by JSON in the format described below:\\n\\n```\\n<think>Reasoning about the answer goes here</think>{\"answer\": \"Final answer goes here\"}\\n```\\n\\nThe `<think>...</think>` section will contain your reasoning about the sequence of events.\\n\\nThe JSON \"answer\" will contain the integer representing the correct answer to the question.\\n<｜User｜>Question: There are 15 trees in the grove. Grove workers will plant trees in the grove today. After they are done, there will be 21 trees. How many trees did the grove workers plant today?<｜Assistant｜>{\"answer\": 6}<｜end▁of▁sentence｜><｜User｜>Question: If there are 3 cars in the parking lot and 2 more cars arrive, how many cars are in the parking lot?<｜Assistant｜>{\"answer\": 5}<｜end▁of▁sentence｜><｜User｜>Question: Leah had 32 chocolates and her sister had 42. If they ate 35, how many pieces do they have left in total?<｜Assistant｜>{\"answer\": 39}<｜end▁of▁sentence｜><｜User｜>Question: Josh decides to try flipping a house.  He buys a house for $80,000 and then puts in $50,000 in repairs.  This increased the value of the house by 150%.  How much profit did he make?<｜Assistant｜><think>\\n\\n<think>\\n'"
      ]
     },
     "execution_count": 24,
     "metadata": {},
     "output_type": "execute_result"
    }
   ],
   "source": [
    "create_prompt(all_evals[i]['question'], tokenizer)+empty_cot"
   ]
  },
  {
   "cell_type": "code",
   "execution_count": 25,
   "id": "95780da2-117f-49d6-bf5e-13d7e0371621",
   "metadata": {},
   "outputs": [
    {
     "name": "stderr",
     "output_type": "stream",
     "text": [
      "100%|█████████████████████████████████████████████████████████████████████████████████████████████████████████████████████████████████████████████████████████████████████████████████████████████████████████████████████| 1319/1319 [40:46<00:00,  1.85s/it]\n"
     ]
    }
   ],
   "source": [
    "empty_cot = bot + \"\\n\\n\" + eot\n",
    "empty_cot_structured_resp = [structured_generator(create_prompt(all_evals[i]['question'], tokenizer)+empty_cot) for i in tqdm(range(LAST))]"
   ]
  },
  {
   "cell_type": "code",
   "execution_count": 26,
   "id": "c3b7eff8-f960-460b-94c3-1e4a83298006",
   "metadata": {},
   "outputs": [
    {
     "name": "stdout",
     "output_type": "stream",
     "text": [
      "{\"reasoning\": \"\\n\\n\", \"answer\": 22}\n",
      "18\n"
     ]
    }
   ],
   "source": [
    "print(empty_cot_structured_resp[0])\n",
    "print(answers[0])"
   ]
  },
  {
   "cell_type": "code",
   "execution_count": 27,
   "id": "f13b92c2-5d90-4276-afb5-011f11d856f6",
   "metadata": {},
   "outputs": [
    {
     "name": "stdout",
     "output_type": "stream",
     "text": [
      "[22, 3, 120000, 540, 12, 84, 140, 220, 120, 485, 135, 680, 10, 30, 55, 1200, 230, 3300, 4, 6, 23, 12, 7, 8, 26, 5, 165, 12, 5, 71, 77, 80, 35, 70, 19, 6, 30, 5, 6, 24, 16, 1200, 31, 50, 10, 24, 23, 200, 8, 30, 42, 3, 30, 120, 39, 14, 3, 103, 55, 179, 17, 1680, 55000, 714, 480, 48, 48, 350, 20, 32, 1050, 60, 245, 261, 60, 24, 11, 200, 11, 70, 11, 5, 543, 600, 15, 44, 15, 792, 8, 24, 250, 16, 3, 34, 180, 53, 5, 48, 17, 80, 135, 10, 5, 140, 416, 20, 360, 3, 100, 27, 38, 12, 24, 25, 12, 105, 49, 360, 4, 120000, 60, 23, 35, 80, 45, 10, 76, 150, 405, 30000, 35, 860, 36, 11, 72, 55, 18, 24, 12, 22, 20, 533, 560, 16, 92, 3333, 875, 12, 30, 16, 30, 10, 4, 60, 320, 100, 700, 100, 30, 11, 14, 35, 144, 39, 35, 1500, 5, 16, 18, 120, 100, 1000, 39, 1260, 540, 30, 60, 1250, 122, 130, 20, 200, 32, 12, 50, 30, 12, 106, 20, 25, 36, 39, 100, 27, 10, 8, '', 6277, 200, 1000, 55, 103500, 100, 23, 63, 96, 310, 2280, 42, 200, 3, 10, 4, 39, 32, 43, 1200, 11, 33, 100, 70, 120, 120, 20000, 108, 9, 39, 11, 3, 30, 264000, 40, 75, 12, 12, 3, 31, 90, 51, 280, 24, 6, 10, 125, 39, 8, 2925, 43, 300, 1000, 5, 61, 39, 22, 84, 12, 100, 1600, 6, 102, 32, 3100, 270, 10, 275, 30000, 120000, 105, 655, 4, 426, 22, 5, 450, 3200, 100, 10, 3, 30, 18, 7, 1050, 75, 16, 280, 15, 10, 4, 10, 480, 220, 2, 30, 75, 15, 415, 42, 1, 230, 15000, 62, 16, 15, 450, 500, 16, 20, 16, 10, 5, 2000, 147, 32, 6000, 30, 22, 100, 120, 39, 15, 12, 2, 10, 39, 10, 34000, 10, 12, 1, 14, 31, 12000, 44, 10, 11, 260, 60, 4, 50, 160, 10, 161, 87, 315000, 1, 450, 13, 40, 120, 39, 10, 30, 23, 24, 39, 22, 11, 4, 95, 6, 20, 3, 30, 5, 44, 18, 8, 11, 10, 1000, 320, 41, 10, 360000, 75, 56, 15, 24, 35, 21, 203, 71, 230, 10, 20, 39, 78, 42, 88, 12, 12, 15, 11, 30, 126, 20, 5, 25, 120, 12, 48, 1200, 3, 135, 24, 140, 100, 3000, 10, 2040, 10, 400, 5, '', 84, 24, 172, 2000, 40, 6000, 13500, 24, 224, 2, 465, 100, 12, 150, 12, 16, 123, 14, 30, 12, 10, 5, 17, 39, 11, 23, 36, 20, 37, 100, 50, 15, 10, 203, 100, 120, 5, 170, 40, 10000, 240, 120, 150, 35, 25, 10, 204, 56, 121, 18, 1, 10, 5, 2400, 100, 5, 3, 24, 6, 12, 50, 15, 10, 17, 603, 5000, 10, 63, 26, 40, 24, 240, 60, 5, 9, '', 4, 4, 32, 100, 64, 240, 10, 200, 25, 20, 21, 259, 22, 12, 3, 2400, 24, 3, 120, 3, 3500, 110, 16, 300, 90000, 160, 375, 72, 108, 130, 15, 37, 16, 85, 7, 18, 30, 10, 102, 10, 42, 33, 1, 500, 120, 16, 12, 206, 18, 60, 102, 39, 2000, 36, 80, 30, 12, 81, 100, 82, 39, 5, 275, 2, 30, 6, 160, 35, 3, 14, 30, 140, 57, 6, 150, 5, 5, 5, 171, 33, 12, 200, 120, 1800, 37, 12, 1002, 40, 30, 8, 520, 175, 137000, 180, 5, 15, 350, 105, 50, 13, 128, 880, 1, 5, 420, 16, 166, 90, 122, 46, 8, 122, 5, 1080, 1000, 23, 12, 120, 12, 28, 2522, 1000000, 35, 3150, 195, 21, 10, 5, 102, 100, 1291, 1500, 7, 20, 70, 80, 120, 39, 4, 1500, 36, 2000, 34, 25, 20, 5, 1470, 3, 10, 72, 39, 255000, 1000, 20, 33, 48, 121, 7, 27, 20000, 100, 1000, 30, 162, 12, 10, 20, 207000, 105, 3, 10, 39, 11, 193, 32, 54, 105, 53, 3, 160, 4, 15, 11, 7, 12, 11, 300, 35, 60, 144, 640, 235, 80, 40, 11, 14, 70, 16, 120, 10, 2400, 41, 43, 42, 39, 5, 12, 27, 1280, 9, 300, 150, 3200, 80, 48, 300, 30, 12, 168, 1200, 23, 4, 26, 24, 10, 38500, 420, 2, 20, 35, 2, 1450, 115, 170, 11, 20, 36, 224, 60, 1333, 3, 2, 102, 5, 22, 20, 13, 1, 10, 102, 30, 20, 24, 3, 23, 1000, 10, 140, 224, 12, 1000, 41, 400, 106, 105, 7, 22, 44, 133, 6000, 20, 18, 100, 100, 13, 290, 12, 60, 450, 200, 5, 5, 40, 12, 12, 412, 800, 420, 29, 390, 12, 17, 27, 10, 15, 210, 174, 25, 200, 4, 108, 172, 750, 245, 32, 30, 26000, 630, 11, 4, 466, 1280, 12, 3, 20, 1230, 70, 12, 10, 75, 110, 14, 105, 10, 12, 16, 39, 15, 12, 6250, 600, 30, 1260, 14, 26, 165, 14, 12, 20, 20000, 240, 249, 100, 150, 80, 27, 120, 127, 20, 3, 10, 7200, 20, 13, 105, 13, 10, 39, 15, 75, 70, 130, 83, 45, 12, 12, 7, 11200, 1260, 1560, 3, 12, 100, 100, 390, 10, 40, 5, 15, 500, 24, 42, 17, 1212, 132, 39, 100, 7500, 5, 400, 5, 5, 12, 20, 150, 462, 20, 34, 10, 35, 10, 60, 1, 520, 32, 61, 100, 11, 110, 15, 12, 2, 8, 100, 6, 11, 10, 16, 14, 20, 600, 80, 10, 14, 3, 15, 12, 12, 66, 30, 39, 12, 60, 6, 6, 2500, 12, 200, 42, 60, 62, 50, 22, 10, 430, 360, 1000, 105, 1, 250, 280, 11, 165, 100, 25, 20, 230, 13, 420, 20, 15, 150, 660, 137, 30, 125, 4, 60, 38, 12, 44, 155, 600, 139, 400, 120, 39, 31, 225, 1800, 26, 300, 160, 55, 7, 20, 420, 32, 140, 103, 80, 22, 12, 10, 102, 63, 125, 12, 12, 15, 3, 30, 18, 11, 10, 39, 5, 600, 50, 25, 3, 17, 8, 1005, 2, 100, 1400, 20, 390, 1375, 10, 39, 42, 20, 1, 14, 136, 39, 60, 107, 24, 31, 30, 56, 390, 30, 4000, 8, 100, 39, 80, 4030, 225, 12, 78, 70, 10, 11, 12, 100, 1425, 113, 3, 1300000, 3, 480, 39, 10, 20000, 20, 1955, 384, 100, 77, 240, 1080, 104, 120, 250, 6, 24, 65, 432, 240, 189, 92, 12, 10500, 39, 150, 12, 257, 80, 155, 250, 15, 160, 100, 12, 20, 12000, 195, 10, 12, 20, 26, 12000, 12, 30, 32, 71, 1000, 540, 12, 25, 180, 530, 100, 30, 3, 120, 22, 65, 45, 24, 5, 5, 360, 38, 3, 100, 123, 1, '', 16, 6, 60, 9, 10, 43, 336, 35, 3, 85, 28, 90, 50, 750, 14, 11, 25, 30, 15000, 80, 6, 39, 50, 40, 200, 10, 12, 40, 24, 300, 36, 39, 10, 20, 18, 45, 15, 40, 6, 30, 44, 11, 240, 5, 3780, 66, 1125, 120, 9, 12, 11, 1080, 400, 120, 24, 12, 3, 1000, 123, 100, 30, 22, 3, 14, 16, 30, 2800, 5, 150, 12, 1620, 10, 26, 3, 14, 6, 123, 70, 405, 23, 400, 220, 37, 1020, 125, 11, 9, 33, 23, 180, 140, 2, 50000, 105, 39, 39, 288, 112, 120, 100, 5, 12, 100, 105, 45, 40, 32, 26, 350, 10, 3, 4, 103, 10, 11, 24, 384, 60, 15, 135, 12, 25, 106, 74, 526, 18, 2, 10, 22, 60, 22, 100, 840, 4, 150, 101, 22, 25, 30, 240, 30, 11, 15, 14, 30, 7200, 5, 215, 10, 420, 201, 48, 56, 95, 10, 54, 3885, 153, 39, 33, 31, 12, 70, 48, 583, 120, 7, 300, 12, 122, 12, 1208, 145, 73, 225, 111, 116, 27, 60, 65000, 24, 3, 235, 100, 123, 11, 120, 11, 84, 14, 1000, 2305, 1, 8, 30, 1850, 16, 62, 420, 24, 11, 12, 400, 10, 14]\n"
     ]
    }
   ],
   "source": [
    "empty_cot_structured_resp_answers = [int(result[1].upper()) if result else \"\" for result in [re.search(answer_regex,resp) for resp in empty_cot_structured_resp]]\n",
    "print(empty_cot_structured_resp_answers)"
   ]
  },
  {
   "cell_type": "code",
   "execution_count": 28,
   "id": "d29f80e9-0438-47d6-b446-f54744524cad",
   "metadata": {},
   "outputs": [
    {
     "data": {
      "text/plain": [
       "Text(0.5, 1.0, 'GSM8K - JSON Structured Output With Empty vs. Free CoT\\ncasperhansen/deepseek-r1-distill-qwen-7b-awq')"
      ]
     },
     "execution_count": 28,
     "metadata": {},
     "output_type": "execute_result"
    },
    {
     "data": {
      "image/png": "[encoded data removed]",
      "text/plain": [
       "<Figure size 1000x800 with 1 Axes>"
      ]
     },
     "metadata": {},
     "output_type": "display_data"
    }
   ],
   "source": [
    "import matplotlib.pyplot as plt\n",
    "fig, ax = plt.subplots(1,figsize=(10,8),facecolor='white')\n",
    "empty_bar = ax.bar('empty CoT',np.mean([result[0] == result[1] for result in zip(empty_cot_structured_resp_answers, answers)]),label='structured output, empty CoT')\n",
    "free_bar = ax.bar('free CoT',np.mean([result[0] == result[1] for result in zip(structured_resp_answers, answers)]),label='structured output, free CoT')\n",
    "\n",
    "for bar in [empty_bar, free_bar]:\n",
    "    height = bar[0].get_height()\n",
    "    ax.text(bar[0].get_x() + bar[0].get_width()/2., height,\n",
    "            f'{height:.2f}',\n",
    "            ha='center', va='bottom')\n",
    "\n",
    "ax.set_ylim(0, 1.0)\n",
    "ax.set_ylabel('Accuracy')\n",
    "ax.legend(loc=\"lower right\")\n",
    "ax.set_title(f\"GSM8K - JSON Structured Output With Empty vs. Free CoT\\n{MODEL_NAME}\")"
   ]
  }
 ],
 "metadata": {
  "kernelspec": {
   "display_name": "Python 3 (ipykernel)",
   "language": "python",
   "name": "python3"
  },
  "language_info": {
   "codemirror_mode": {
    "name": "ipython",
    "version": 3
   },
   "file_extension": ".py",
   "mimetype": "text/x-python",
   "name": "python",
   "nbconvert_exporter": "python",
   "pygments_lexer": "ipython3",
   "version": "3.12.8"
  }
 },
 "nbformat": 4,
 "nbformat_minor": 5
}
